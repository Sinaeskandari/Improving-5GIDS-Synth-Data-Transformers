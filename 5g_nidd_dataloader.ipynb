{
  "nbformat": 4,
  "nbformat_minor": 0,
  "metadata": {
    "colab": {
      "provenance": [],
      "gpuType": "T4"
    },
    "kernelspec": {
      "name": "python3",
      "display_name": "Python 3"
    },
    "language_info": {
      "name": "python"
    },
    "accelerator": "GPU"
  },
  "cells": [
    {
      "cell_type": "code",
      "execution_count": null,
      "metadata": {
        "id": "7PN6cbR7Nk4m"
      },
      "outputs": [],
      "source": [
        "import torch\n",
        "from torch.utils.data import DataLoader, Dataset\n",
        "import pandas as pd\n",
        "import numpy as np\n",
        "import torch.nn.functional as F\n",
        "from sklearn.preprocessing import OneHotEncoder\n",
        "import torch.nn as nn\n",
        "import torch.optim as optim\n",
        "from tqdm import tqdm\n",
        "from sklearn.preprocessing import StandardScaler, MinMaxScaler\n",
        "from sklearn.metrics import f1_score"
      ]
    },
    {
      "cell_type": "code",
      "source": [
        "device = torch.device(\"cuda\" if torch.cuda.is_available() else \"cpu\")\n",
        "print('Using device:', device)"
      ],
      "metadata": {
        "colab": {
          "base_uri": "https://localhost:8080/"
        },
        "id": "P34XwQf88BC4",
        "outputId": "9e953103-84fc-4572-be44-077b706a3256"
      },
      "execution_count": null,
      "outputs": [
        {
          "output_type": "stream",
          "name": "stdout",
          "text": [
            "Using device: cuda\n"
          ]
        }
      ]
    },
    {
      "cell_type": "code",
      "source": [
        "class CustomDataset(Dataset):\n",
        "    def __init__(self, file_path, save_path=None):\n",
        "        self.data = pd.read_csv(file_path)\n",
        "        self.columns = self.data.columns\n",
        "        self.X, self.Y = self.process_data()\n",
        "        if save_path:\n",
        "            self.save_data(save_path)\n",
        "\n",
        "    def save_data(self, save_path):\n",
        "        data = torch.cat((self.X, self.Y), dim=1)\n",
        "        column_names = [f'feature {i + 1}' for i in range(62)] + ['label']\n",
        "        df = pd.DataFrame(data.numpy(), columns=column_names)\n",
        "        df.to_csv(save_path, index=False)\n",
        "\n",
        "    def process_data(self):\n",
        "        columns_to_drop = [col for col in self.data if self.data[col].nunique() == 1]\n",
        "        redundant_columns = ['Unnamed: 0', 'RunTime', 'Mean', 'Sum', 'Min', 'Max']\n",
        "        too_much_nan_columns = ['dTos', 'dDSb', 'dTtl', 'dHops', 'SrcGap', 'DstGap', 'SrcWin', 'DstWin', 'sVid', 'dVid', 'SrcTCPBase', 'DstTCPBase']\n",
        "        columns_to_drop.extend(redundant_columns)\n",
        "        columns_to_drop.extend(too_much_nan_columns)\n",
        "        self.data.drop(columns=columns_to_drop, axis=1, inplace=True)\n",
        "\n",
        "        label_map = {'Malicious': 0, 'Benign': 1}\n",
        "        self.data['Label'] = self.data['Label'].map(label_map)\n",
        "\n",
        "        cause_map = {v: k for k, v in enumerate(['Status', 'Start', 'Shutdown'])}\n",
        "        self.data['Cause'] = self.data['Cause'].map(cause_map)\n",
        "\n",
        "        protocol_map = {v: k for k, v in enumerate(['udp', 'tcp', 'icmp', 'sctp', 'lldp', 'llc', 'arp', 'ipv6-icmp'])}\n",
        "        self.data['Proto'] = self.data['Proto'].map(protocol_map)\n",
        "\n",
        "        state_map = {v: k for k, v in enumerate(['REQ', 'INT', 'CON', 'RST', 'FIN', 'ECO', 'ACC', 'URP', 'RSP', 'TST', 'NRS'])}\n",
        "        self.data['State'] = self.data['State'].map(state_map)\n",
        "\n",
        "        self.data['sDSb'].fillna('empty', inplace=True)\n",
        "        sDSb_map = {v: k for k, v in enumerate(['cs0', 'af41', 'ef', 'af11', 'cs7', '4', 'cs6', '39', '52', '54', 'cs4', 'af12', 'empty'])}\n",
        "        self.data['sDSb'] = self.data['sDSb'].map(sDSb_map)\n",
        "\n",
        "\n",
        "        remaining_nan_columns = ['sTos', 'sTtl', 'sHops']\n",
        "\n",
        "        for col in remaining_nan_columns:\n",
        "            col_mean = self.data[col].mean()\n",
        "            self.data[col].fillna(col_mean, inplace=True)\n",
        "\n",
        "        Y = self.data[['Label']]\n",
        "        X = self.data.drop(['Label', 'Attack Type', 'Attack Tool'], axis=1)\n",
        "\n",
        "        X, Y = self.encode_data(X, Y)\n",
        "\n",
        "        return X, Y\n",
        "\n",
        "    def normalize_data(self, X_continuous):\n",
        "        # scaler = StandardScaler()\n",
        "        scaler = MinMaxScaler(feature_range=(-1, 1))\n",
        "        X_continuous_scaled = scaler.fit_transform(X_continuous) # np array\n",
        "        X_continuous_scaled = torch.FloatTensor(X_continuous_scaled)\n",
        "        return X_continuous_scaled\n",
        "\n",
        "    def encode_data(self, X, Y):\n",
        "        self.categorical_features = ['Cause', 'Proto', 'State', 'sDSb']\n",
        "        X_categorical = X[self.categorical_features]\n",
        "        X_continuous = X.drop(self.categorical_features, axis=1)\n",
        "        self.continuous_features = X_continuous.columns\n",
        "\n",
        "        X_continuous_scaled = self.normalize_data(X_continuous)\n",
        "\n",
        "        for col_idx, column in enumerate(X_continuous.columns):\n",
        "            col_min = X_continuous_scaled[:, col_idx].min().item()\n",
        "            col_max = X_continuous_scaled[:, col_idx].max().item()\n",
        "            col_min2 = X_continuous[column].min()\n",
        "            col_max2 = X_continuous[column].max()\n",
        "\n",
        "        # X_continuous = torch.FloatTensor(X_continuous.values)\n",
        "        X_categorical = torch.FloatTensor(X_categorical.values).long()\n",
        "\n",
        "        one_hot_columns = []\n",
        "        for col_idx in range(X_categorical.shape[1]):\n",
        "            one_hot_col = F.one_hot(X_categorical[:, col_idx])\n",
        "            one_hot_columns.append(one_hot_col)\n",
        "        X_categorical = torch.cat(one_hot_columns, dim=1)\n",
        "\n",
        "        X_encoded = torch.cat((X_categorical, X_continuous_scaled), dim=1)\n",
        "\n",
        "        Y = torch.Tensor(Y.values)\n",
        "\n",
        "        return X_encoded, Y\n",
        "\n",
        "    def __len__(self):\n",
        "        return len(self.X)\n",
        "\n",
        "    def __getitem__(self, idx):\n",
        "        return self.X[idx], self.Y[idx]"
      ],
      "metadata": {
        "id": "Kmf98H_tfJhC"
      },
      "execution_count": null,
      "outputs": []
    },
    {
      "cell_type": "code",
      "source": [
        "d = CustomDataset('drive/MyDrive/datasets/Combined.csv')"
      ],
      "metadata": {
        "id": "IQRB5Dk8ARq0"
      },
      "execution_count": null,
      "outputs": []
    },
    {
      "cell_type": "code",
      "source": [
        "!cp processed.csv drive/MyDrive/processed.csv"
      ],
      "metadata": {
        "id": "p9JXSQdQyAOx"
      },
      "execution_count": null,
      "outputs": []
    },
    {
      "cell_type": "code",
      "source": [
        "dataloader = DataLoader(d, batch_size=64, shuffle=True)"
      ],
      "metadata": {
        "id": "LAAECr2M6OfB"
      },
      "execution_count": null,
      "outputs": []
    },
    {
      "cell_type": "code",
      "source": [
        "class MLP(nn.Module):\n",
        "    def __init__(self, input_size):\n",
        "        super(MLP, self).__init__()\n",
        "        self.fc1 = nn.Sequential(nn.Linear(input_size, 1024),\n",
        "                                 nn.ReLU(),\n",
        "                                 nn.Dropout(0.2),\n",
        "                                 nn.Linear(1024, 768),\n",
        "                                 nn.ReLU(),\n",
        "                                 nn.Dropout(0.2),\n",
        "                                 nn.Linear(768, 512),\n",
        "                                 nn.ReLU(),\n",
        "                                 nn.Dropout(0.2),\n",
        "                                 nn.Linear(512, 256),\n",
        "                                 nn.ReLU(),\n",
        "                                 nn.Dropout(0.2),\n",
        "                                 nn.Linear(256, 128),\n",
        "                                 nn.ReLU(),\n",
        "                                 nn.Dropout(0.2))\n",
        "        self.fc2 = nn.Linear(128, 1)\n",
        "        self.sigmoid = nn.Sigmoid()\n",
        "\n",
        "    def forward(self, x):\n",
        "        x = self.fc1(x)\n",
        "        x = self.fc2(x)\n",
        "        output = self.sigmoid(x)\n",
        "        return output"
      ],
      "metadata": {
        "id": "6-OORTXn6ddi"
      },
      "execution_count": null,
      "outputs": []
    },
    {
      "cell_type": "code",
      "source": [
        "input_size = 62\n",
        "epochs = 10"
      ],
      "metadata": {
        "id": "j94B0Bxl8Hs3"
      },
      "execution_count": null,
      "outputs": []
    },
    {
      "cell_type": "code",
      "source": [
        "model = MLP(input_size)\n",
        "model.to(device)"
      ],
      "metadata": {
        "colab": {
          "base_uri": "https://localhost:8080/"
        },
        "id": "lPD9IZZf8CqB",
        "outputId": "90125ae8-3aea-4e08-f346-4eec7db63708"
      },
      "execution_count": null,
      "outputs": [
        {
          "output_type": "execute_result",
          "data": {
            "text/plain": [
              "MLP(\n",
              "  (fc1): Sequential(\n",
              "    (0): Linear(in_features=62, out_features=1024, bias=True)\n",
              "    (1): ReLU()\n",
              "    (2): Dropout(p=0.2, inplace=False)\n",
              "    (3): Linear(in_features=1024, out_features=768, bias=True)\n",
              "    (4): ReLU()\n",
              "    (5): Dropout(p=0.2, inplace=False)\n",
              "    (6): Linear(in_features=768, out_features=512, bias=True)\n",
              "    (7): ReLU()\n",
              "    (8): Dropout(p=0.2, inplace=False)\n",
              "    (9): Linear(in_features=512, out_features=256, bias=True)\n",
              "    (10): ReLU()\n",
              "    (11): Dropout(p=0.2, inplace=False)\n",
              "    (12): Linear(in_features=256, out_features=128, bias=True)\n",
              "    (13): ReLU()\n",
              "    (14): Dropout(p=0.2, inplace=False)\n",
              "  )\n",
              "  (fc2): Linear(in_features=128, out_features=1, bias=True)\n",
              "  (sigmoid): Sigmoid()\n",
              ")"
            ]
          },
          "metadata": {},
          "execution_count": 9
        }
      ]
    },
    {
      "cell_type": "code",
      "source": [
        "loss_fn = nn.BCELoss()\n",
        "optimizer = optim.Adam(model.parameters(), lr=0.001)"
      ],
      "metadata": {
        "id": "sJWscG9V8Kk3"
      },
      "execution_count": null,
      "outputs": []
    },
    {
      "cell_type": "code",
      "source": [
        "loss_fn.to(device)"
      ],
      "metadata": {
        "colab": {
          "base_uri": "https://localhost:8080/"
        },
        "id": "SmKHT6yjCwfp",
        "outputId": "3987df45-2858-4c96-824e-51e6653dec4c"
      },
      "execution_count": null,
      "outputs": [
        {
          "output_type": "execute_result",
          "data": {
            "text/plain": [
              "BCELoss()"
            ]
          },
          "metadata": {},
          "execution_count": 11
        }
      ]
    },
    {
      "cell_type": "code",
      "source": [
        "for epoch in range(epochs):\n",
        "    model.train()\n",
        "    running_loss = 0.0\n",
        "    correct_predictions = 0\n",
        "    total_samples = 0\n",
        "\n",
        "    for i, data in enumerate(tqdm(dataloader)):\n",
        "        inputs, labels = data\n",
        "        # labels = labels.squeeze(1)\n",
        "        batch_size = inputs.size(0)\n",
        "\n",
        "        inputs = inputs.to(device)\n",
        "        labels = labels.to(device)\n",
        "\n",
        "        optimizer.zero_grad()\n",
        "\n",
        "        outputs = model(inputs)\n",
        "        loss = loss_fn(outputs, labels)\n",
        "\n",
        "        predicted_labels = (outputs >= 0.5).float()\n",
        "\n",
        "        running_loss += loss.item()\n",
        "        correct_predictions += (predicted_labels == labels).sum().item()\n",
        "        total_samples += batch_size\n",
        "\n",
        "        loss.backward()\n",
        "        optimizer.step()\n",
        "    epoch_loss = running_loss / len(dataloader)\n",
        "    epoch_accuracy = correct_predictions / total_samples\n",
        "    print(f\"Epoch [{epoch+1}/{epochs}], Loss: {epoch_loss:.4f}, Accuracy: {epoch_accuracy:.4f}\")"
      ],
      "metadata": {
        "colab": {
          "base_uri": "https://localhost:8080/"
        },
        "id": "bCCAisb48Y7w",
        "outputId": "939ddff5-5199-4685-a4ca-8c6437adee72"
      },
      "execution_count": null,
      "outputs": [
        {
          "output_type": "stream",
          "name": "stderr",
          "text": [
            "100%|██████████| 18999/18999 [01:01<00:00, 307.36it/s]\n"
          ]
        },
        {
          "output_type": "stream",
          "name": "stdout",
          "text": [
            "Epoch [1/10], Loss: 0.0533, Accuracy: 0.9918\n"
          ]
        },
        {
          "output_type": "stream",
          "name": "stderr",
          "text": [
            "100%|██████████| 18999/18999 [00:57<00:00, 331.52it/s]\n"
          ]
        },
        {
          "output_type": "stream",
          "name": "stdout",
          "text": [
            "Epoch [2/10], Loss: 0.0431, Accuracy: 0.9952\n"
          ]
        },
        {
          "output_type": "stream",
          "name": "stderr",
          "text": [
            "100%|██████████| 18999/18999 [00:58<00:00, 327.29it/s]\n"
          ]
        },
        {
          "output_type": "stream",
          "name": "stdout",
          "text": [
            "Epoch [3/10], Loss: 0.0402, Accuracy: 0.9959\n"
          ]
        },
        {
          "output_type": "stream",
          "name": "stderr",
          "text": [
            "100%|██████████| 18999/18999 [00:57<00:00, 332.52it/s]\n"
          ]
        },
        {
          "output_type": "stream",
          "name": "stdout",
          "text": [
            "Epoch [4/10], Loss: 0.0406, Accuracy: 0.9964\n"
          ]
        },
        {
          "output_type": "stream",
          "name": "stderr",
          "text": [
            "100%|██████████| 18999/18999 [00:57<00:00, 330.10it/s]\n"
          ]
        },
        {
          "output_type": "stream",
          "name": "stdout",
          "text": [
            "Epoch [5/10], Loss: 0.0410, Accuracy: 0.9965\n"
          ]
        },
        {
          "output_type": "stream",
          "name": "stderr",
          "text": [
            "100%|██████████| 18999/18999 [00:57<00:00, 329.22it/s]\n"
          ]
        },
        {
          "output_type": "stream",
          "name": "stdout",
          "text": [
            "Epoch [6/10], Loss: 0.0445, Accuracy: 0.9964\n"
          ]
        },
        {
          "output_type": "stream",
          "name": "stderr",
          "text": [
            "100%|██████████| 18999/18999 [00:58<00:00, 326.41it/s]\n"
          ]
        },
        {
          "output_type": "stream",
          "name": "stdout",
          "text": [
            "Epoch [7/10], Loss: 0.0425, Accuracy: 0.9967\n"
          ]
        },
        {
          "output_type": "stream",
          "name": "stderr",
          "text": [
            "100%|██████████| 18999/18999 [00:57<00:00, 327.67it/s]\n"
          ]
        },
        {
          "output_type": "stream",
          "name": "stdout",
          "text": [
            "Epoch [8/10], Loss: 0.0444, Accuracy: 0.9965\n"
          ]
        },
        {
          "output_type": "stream",
          "name": "stderr",
          "text": [
            "100%|██████████| 18999/18999 [00:56<00:00, 334.71it/s]\n"
          ]
        },
        {
          "output_type": "stream",
          "name": "stdout",
          "text": [
            "Epoch [9/10], Loss: 0.0477, Accuracy: 0.9959\n"
          ]
        },
        {
          "output_type": "stream",
          "name": "stderr",
          "text": [
            "100%|██████████| 18999/18999 [00:56<00:00, 334.72it/s]"
          ]
        },
        {
          "output_type": "stream",
          "name": "stdout",
          "text": [
            "Epoch [10/10], Loss: 0.0522, Accuracy: 0.9958\n"
          ]
        },
        {
          "output_type": "stream",
          "name": "stderr",
          "text": [
            "\n"
          ]
        }
      ]
    },
    {
      "cell_type": "code",
      "source": [
        "true_labels = []\n",
        "predictions = []\n",
        "\n",
        "model.eval()\n",
        "with torch.no_grad():\n",
        "    for data in tqdm(dataloader):\n",
        "        inputs, labels = data\n",
        "        inputs = inputs.to(device)\n",
        "        labels = labels.to(device)\n",
        "\n",
        "        outputs = model(inputs)\n",
        "\n",
        "        predicted_labels = (outputs >= 0.5).float()\n",
        "\n",
        "        true_labels.extend(labels.cpu().numpy())\n",
        "        predictions.extend(predicted_labels.cpu().numpy())\n",
        "f1 = f1_score(true_labels, predictions)\n",
        "print(f\"F1 Score on Train Data: {f1:.4f}\")"
      ],
      "metadata": {
        "colab": {
          "base_uri": "https://localhost:8080/"
        },
        "id": "FUmF9Aho9re1",
        "outputId": "a64f3d36-fe82-4072-8c57-1777b54d6fd8"
      },
      "execution_count": null,
      "outputs": [
        {
          "output_type": "stream",
          "name": "stderr",
          "text": [
            "100%|██████████| 18999/18999 [00:23<00:00, 799.92it/s]\n"
          ]
        },
        {
          "output_type": "stream",
          "name": "stdout",
          "text": [
            "F1 Score on Train Data: 0.9962\n"
          ]
        }
      ]
    },
    {
      "cell_type": "code",
      "source": [],
      "metadata": {
        "id": "0SHJ31elWneT"
      },
      "execution_count": null,
      "outputs": []
    }
  ]
}